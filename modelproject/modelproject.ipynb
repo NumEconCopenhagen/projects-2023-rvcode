{
 "cells": [
  {
   "attachments": {},
   "cell_type": "markdown",
   "metadata": {},
   "source": [
    "# Standard Solow Model"
   ]
  },
  {
   "cell_type": "markdown",
   "metadata": {},
   "source": [
    "Imports and set magics:"
   ]
  },
  {
   "cell_type": "code",
   "execution_count": 193,
   "metadata": {},
   "outputs": [
    {
     "name": "stdout",
     "output_type": "stream",
     "text": [
      "The autoreload extension is already loaded. To reload it, use:\n",
      "  %reload_ext autoreload\n"
     ]
    }
   ],
   "source": [
    "import numpy as np\n",
    "import matplotlib.pyplot as plt\n",
    "from scipy import optimize\n",
    "import sympy as sm\n",
    "\n",
    "# autoreload modules when code is run\n",
    "%load_ext autoreload\n",
    "%autoreload 2\n",
    "\n",
    "# local modules\n",
    "import modelproject"
   ]
  },
  {
   "cell_type": "markdown",
   "metadata": {},
   "source": [
    "# Model description"
   ]
  },
  {
   "cell_type": "markdown",
   "metadata": {},
   "source": [
    "**Write out the model in equations here.** \n",
    "\n",
    "Make sure you explain well the purpose of the model and comment so that other students who may not have seen it before can follow.  "
   ]
  },
  {
   "attachments": {},
   "cell_type": "markdown",
   "metadata": {},
   "source": [
    "# Standard Solow Model:\n",
    "\n",
    "$$\n",
    "\\begin{gathered}\n",
    "Y_t=K_t^\\alpha\\left(A_t L_t\\right)^{1-\\alpha}, 0<\\alpha<1 \\\\\n",
    "S_t=s Y_t, 0<s<1,0<\\delta<1 \\\\\n",
    "K_{t+1}=S_t+(1-\\delta) K_t \\\\\n",
    "L_{t+1}=(1+n) L_t, n \\geq 0 \\\\\n",
    "A_{t+1}=(1+g) A_t, g \\geq 0\n",
    "\\end{gathered}\n",
    "$$\n",
    "\n",
    "# Semi-endogenous Solow Model (Chp. 8)\n",
    "\n",
    "$$Y_t = K_t^{\\alpha} (A_t L_t)^{(1-\\alpha)}, 1>\\alpha>0$$\n",
    "$$A_t=K_t^{\\phi}, \\phi<1$$\n",
    "$$K_{t+1}=s Y_t +(1+\\delta) K_t , 0<s<1,0<\\delta<1 , K_t>0$$\n",
    "$$L_{t+1}=(1+n)L_t, n\\geq0$$\n",
    "\n",
    "Where:\n",
    "Y = Gross Domestic Product\n",
    "K = Capital stock\n",
    "L = Labor force\n",
    "A = Technological progress (total factor productivity)\n",
    "s = Savings rate (proportion of output saved and invested)\n",
    "\\delta = Depreciation rate (rate at which capital stock depreciates)\n",
    "n = Labor force growth rate\n",
    "a = is the output elasticity of capital\n",
    "1-a is the output elasticity og labour"
   ]
  },
  {
   "attachments": {},
   "cell_type": "markdown",
   "metadata": {},
   "source": [
    "## Analytical Solution"
   ]
  },
  {
   "attachments": {},
   "cell_type": "markdown",
   "metadata": {},
   "source": [
    "If your model allows for an analytical solution, you should provide here.\n",
    "\n",
    "You may use Sympy for this. Then you can characterize the solution as a function of a parameter of the model.\n",
    "\n",
    "To characterize the solution, first derive a steady state equation as a function of a parameter using Sympy.solve and then turn it into a python function by Sympy.lambdify. See the lecture notes for details. "
   ]
  },
  {
   "attachments": {},
   "cell_type": "markdown",
   "metadata": {},
   "source": [
    "## Numerical solution"
   ]
  },
  {
   "attachments": {},
   "cell_type": "markdown",
   "metadata": {},
   "source": [
    "You can always solve a model numerically. \n",
    "\n",
    "Define first the set of parameters you need. \n",
    "\n",
    "Then choose one of the optimization algorithms that we have gone through in the lectures based on what you think is most fitting for your model.\n",
    "\n",
    "Are there any problems with convergence? Does the model converge for all starting values? Make a lot of testing to figure these things out. "
   ]
  },
  {
   "cell_type": "code",
   "execution_count": 194,
   "metadata": {},
   "outputs": [
    {
     "name": "stdout",
     "output_type": "stream",
     "text": [
      "Steady state capital stock:  2.489765710467247\n",
      "Steady state GDP:  1.524346353347294\n"
     ]
    }
   ],
   "source": [
    "# Define the model parameters\n",
    "alpha = 0.3\n",
    "phi = 0.2\n",
    "s = 0.2\n",
    "delta = 0.1\n",
    "n = 0.02\n",
    "\n",
    "# Define the production function and technological progress function\n",
    "def production(K, L, A):\n",
    "    return K**alpha * (A*L)**(1-alpha)\n",
    "\n",
    "def tech_progress(K, phi):\n",
    "    return K**phi\n",
    "\n",
    "\n",
    "# Define the system of equations to solve for the steady state\n",
    "def steady_state_system(x):\n",
    "    K, Y = x\n",
    "    A = tech_progress(K, phi)\n",
    "    dK_dt = s*production(K, 1, A) - (delta+n)*K\n",
    "    dY_dt = n*Y + production(K, 1, A) - Y\n",
    "    return [dK_dt, dY_dt]\n",
    "\n",
    "# Find the steady state numerically using the fsolve function from scipy.optimize\n",
    "K_ss, Y_ss = optimize.fsolve(steady_state_system, [1, 1])\n",
    "\n",
    "# Print the results\n",
    "print(\"Steady state capital stock: \", K_ss)\n",
    "print(\"Steady state GDP: \", Y_ss)"
   ]
  },
  {
   "attachments": {},
   "cell_type": "markdown",
   "metadata": {},
   "source": [
    "You can always solve a model numerically. \n",
    "\n",
    "Define first the set of parameters you need. \n",
    "\n",
    "Then choose one of the optimization algorithms that we have gone through in the lectures based on what you think is most fitting for your model.\n",
    "\n",
    "Are there any problems with convergence? Does the model converge for all starting values? Make a lot of testing to figure these things out. "
   ]
  },
  {
   "attachments": {},
   "cell_type": "markdown",
   "metadata": {},
   "source": [
    "This code defines a function solow to simulate the Solow model for a given initial condition of capital stock and GDP, and a range of initial capital stock and GDP values are specified using the linspace function. The loop then iterates over all combinations of initial conditions, and for each combination, the Solow model is simulated and checked for convergence using a tolerance of 1e-6. The convergence times are then printed to the console.\n",
    "\n",
    "Now we add a share of labor income in GDP and find the new steady state:"
   ]
  },
  {
   "cell_type": "code",
   "execution_count": 195,
   "metadata": {},
   "outputs": [
    {
     "name": "stdout",
     "output_type": "stream",
     "text": [
      "Steady state capital stock:  2.4897657104672475\n",
      "Steady state GDP:  0.6097385413389179\n"
     ]
    }
   ],
   "source": [
    "w = 0.6  # Share of labor income in GDP\n",
    "\n",
    "\n",
    "# Define the system of equations to solve for the steady state\n",
    "def steady_state_system(x):\n",
    "    K, Y = x\n",
    "    A = tech_progress(K, phi)\n",
    "    dK_dt = s*production(K, 1, A) - (delta+n)*K\n",
    "    dY_dt = n*Y + (1-w)*production(K, 1, A) - Y\n",
    "    return [dK_dt, dY_dt]\n",
    "\n",
    "# Find the steady state numerically using the fsolve function from scipy.optimize\n",
    "K_ss, Y_ss = optimize.fsolve(steady_state_system, [1, 1])\n",
    "\n",
    "# Print the results\n",
    "print(\"Steady state capital stock: \", K_ss)\n",
    "print(\"Steady state GDP: \", Y_ss)"
   ]
  },
  {
   "attachments": {},
   "cell_type": "markdown",
   "metadata": {},
   "source": [
    "Now we simulate the Solow model using the Euler method, with the initial capital stock set to 1 and the initial GDP per worker calculated using the production function and technological progress function. "
   ]
  },
  {
   "cell_type": "code",
   "execution_count": 200,
   "metadata": {},
   "outputs": [
    {
     "data": {
      "image/png": "[encoded data removed]",
      "text/plain": [
       "<Figure size 640x480 with 1 Axes>"
      ]
     },
     "metadata": {},
     "output_type": "display_data"
    }
   ],
   "source": [
    "# Define the production function and technological progress function\n",
    "def production(K, L, A):\n",
    "    return K**alpha * (A*L)**(1-alpha)\n",
    "\n",
    "def tech_progress(K, phi):\n",
    "    return K**phi\n",
    "\n",
    "# Define the system of equations for the Solow model\n",
    "def solow_model(K, Y, A):\n",
    "    dK_dt = s*production(K, 1, A) - (delta+n)*K\n",
    "    dY_dt = n*Y + (1-w)*production(K, 1, A)\n",
    "    return dK_dt, dY_dt\n",
    "\n",
    "# Define the initial conditions\n",
    "K0 = 1\n",
    "Y0 = production(K0, 1, tech_progress(K0, phi))\n",
    "\n",
    "# Define the simulation parameters\n",
    "T = 200\n",
    "dt = 1.0\n",
    "\n",
    "# Define the arrays to store the simulation results\n",
    "K_path = np.zeros(T+1)\n",
    "Y_path = np.zeros(T+1)\n",
    "A_path = np.zeros(T+1)\n",
    "\n",
    "# Set the initial values\n",
    "K_path[0] = K0\n",
    "Y_path[0] = Y0\n",
    "A_path[0] = tech_progress(K0, phi)\n",
    "\n",
    "# Simulate the Solow model using the Euler method\n",
    "for t in range(T):\n",
    "    K, Y, A = K_path[t], Y_path[t], A_path[t]\n",
    "    dK_dt, dY_dt = solow_model(K, Y, A)\n",
    "    K_path[t+1] = K + dK_dt*dt\n",
    "    Y_path[t+1] = Y + dY_dt*dt\n",
    "    A_path[t+1] = tech_progress(K_path[t+1], phi)\n",
    "\n",
    "# Plot the results\n",
    "t_values = np.arange(T+1)\n",
    "y_values = Y_path  # GDP per worker\n",
    "plt.plot(t_values, y_values)\n",
    "plt.xlabel('Time')\n",
    "plt.ylabel('GDP per worker')\n",
    "plt.show()"
   ]
  },
  {
   "attachments": {},
   "cell_type": "markdown",
   "metadata": {},
   "source": [
    "## Simulation of the Solow Model"
   ]
  },
  {
   "attachments": {},
   "cell_type": "markdown",
   "metadata": {},
   "source": [
    "We now run the simulations but as a function"
   ]
  },
  {
   "cell_type": "code",
   "execution_count": 201,
   "metadata": {},
   "outputs": [],
   "source": [
    "def sim_solow():\n",
    "    # Define the initial conditions\n",
    "    K0 = 1\n",
    "    Y0 = production(K0, 1, tech_progress(K0, phi))\n",
    "\n",
    "    # Define the simulation parameters\n",
    "    T = 200\n",
    "    dt = 1.0\n",
    "\n",
    "    # Define the arrays to store the simulation results\n",
    "    K_path = np.zeros(T+1)\n",
    "    Y_path = np.zeros(T+1)\n",
    "    A_path = np.zeros(T+1)\n",
    "\n",
    "    # Set the initial values\n",
    "    K_path[0] = K0\n",
    "    Y_path[0] = Y0\n",
    "    A_path[0] = tech_progress(K0, phi)\n",
    "    \n",
    "    # Plot the results\n",
    "    t_values = np.arange(T+1)\n",
    "    y_values = Y_path  # GDP per worker\n",
    "    \n",
    "    \n",
    "    # Create lambdified functions for numerical evaluation\n",
    "    dK_dt_func = sm.lambdify([sm.Symbol('K'), sm.Symbol('Y')], steady_state_system([sm.Symbol('K'), sm.Symbol('Y')])[0])\n",
    "    dY_dt_func = sm.lambdify([sm.Symbol('K'), sm.Symbol('Y')], steady_state_system([sm.Symbol('K'), sm.Symbol('Y')])[1])\n",
    "\n",
    "    # Simulate the Solow model using the Euler method\n",
    "    for t in range(T):\n",
    "        K, Y, A = K_path[t], Y_path[t], A_path[t]\n",
    "        dK_dt = dK_dt_func(float(K), float(Y))  # Convert to float values\n",
    "        dY_dt = dY_dt_func(float(K), float(Y))  # Convert to float values\n",
    "        K_path[t+1] = K + dK_dt*dt\n",
    "        Y_path[t+1] = Y + dY_dt*dt\n",
    "        A_path[t+1] = tech_progress(K_path[t+1], phi)\n",
    "\n",
    "    return K_path, Y_path, A_path\n"
   ]
  },
  {
   "attachments": {},
   "cell_type": "markdown",
   "metadata": {},
   "source": [
    "We now add plot the values for both alpha = 0.3 & 0.4"
   ]
  },
  {
   "cell_type": "code",
   "execution_count": 202,
   "metadata": {},
   "outputs": [
    {
     "data": {
      "image/png": "[encoded data removed]",
      "text/plain": [
       "<Figure size 640x480 with 1 Axes>"
      ]
     },
     "metadata": {},
     "output_type": "display_data"
    }
   ],
   "source": [
    "#Define the systems of equations for the Solow model\n",
    "# Define the model parameters\n",
    "\n",
    "\n",
    "alpha = 0.3\n",
    "phi = 0.2\n",
    "s = 0.2\n",
    "delta = 0.1\n",
    "n = 0.02\n",
    "\n",
    "K_path, Y_path, A_path = sim_solow()\n",
    "\n",
    "alpha = 0.4\n",
    "\n",
    "K_path2, Y_path2, A_path2 = sim_solow()\n",
    "# Plot the results\n",
    "time = np.arange(len(K_path))\n",
    "plt.plot(K_path / A_path, label=\"alpha=0.3\")\n",
    "plt.plot(K_path2 / A_path2, label=\"alpha=0.4\")\n",
    "plt.xlabel('Time')\n",
    "plt.ylabel('K-tilde per worker')\n",
    "plt.title('Solow Model Simulation')\n",
    "plt.legend()\n",
    "plt.show()"
   ]
  },
  {
   "attachments": {},
   "cell_type": "markdown",
   "metadata": {},
   "source": [
    "The plot above shows that a higher alpha results in a higher K-tilde."
   ]
  },
  {
   "attachments": {},
   "cell_type": "markdown",
   "metadata": {},
   "source": [
    "## Further Analysis"
   ]
  },
  {
   "attachments": {},
   "cell_type": "markdown",
   "metadata": {},
   "source": [
    "Make detailed vizualizations of how your model changes with parameter values. \n",
    "\n",
    "Try to make an extension of the model. "
   ]
  },
  {
   "attachments": {},
   "cell_type": "markdown",
   "metadata": {},
   "source": [
    "Now adding technological growth and plotting capital per worker against gdp per worker:"
   ]
  },
  {
   "cell_type": "code",
   "execution_count": 203,
   "metadata": {},
   "outputs": [
    {
     "name": "stdout",
     "output_type": "stream",
     "text": [
      "Steady state value of capital per worker:  0.48508155097021366\n",
      "Steady state value of output per worker:  0.33805994591060196\n"
     ]
    },
    {
     "data": {
      "image/png": "[encoded data removed]",
      "text/plain": [
       "<Figure size 640x480 with 1 Axes>"
      ]
     },
     "metadata": {},
     "output_type": "display_data"
    }
   ],
   "source": [
    "# Function to calculate the steady state value of capital per worker\n",
    "def k_star(s, alpha, delta, n, g):\n",
    "    return ((s/(n+g+delta))**(1/(1-alpha))) * ((n+g+delta)/alpha)\n",
    "\n",
    "# Function to calculate the steady state value of output per worker\n",
    "def y_star(s, alpha, delta, n, g):\n",
    "    return k_star(s, alpha, delta, n, g)**alpha * (n+g+delta)\n",
    "\n",
    "# Parameter values\n",
    "alpha = 0.3\n",
    "phi = 0.2\n",
    "s = 0.2\n",
    "delta = 0.1\n",
    "n = 0.02\n",
    "g = 0.3\n",
    "\n",
    "# Calculate steady state values\n",
    "k_star_val = k_star(s, alpha, delta, n, g)\n",
    "y_star_val = y_star(s, alpha, delta, n, g)\n",
    "\n",
    "# Print steady state values\n",
    "print(\"Steady state value of capital per worker: \", k_star_val)\n",
    "print(\"Steady state value of output per worker: \", y_star_val)\n",
    "\n",
    "# Plot the Solow diagram\n",
    "k_vals = np.linspace(0, 15, 100)\n",
    "y_vals = k_vals**alpha * (n+g+delta)\n",
    "plt.plot(k_vals, y_vals, label=\"gdp per worker\")\n",
    "plt.plot([k_star_val], [y_star_val], marker='o', markersize=8, color=\"red\", label=\"Steady state\")\n",
    "plt.xlabel(\"Capital per worker\")\n",
    "plt.ylabel(\"Output per worker\")\n",
    "plt.legend()\n",
    "plt.show()"
   ]
  },
  {
   "cell_type": "markdown",
   "metadata": {},
   "source": [
    "# Conclusion"
   ]
  },
  {
   "cell_type": "markdown",
   "metadata": {},
   "source": [
    "Add concise conclusion. "
   ]
  }
 ],
 "metadata": {
  "kernelspec": {
   "display_name": "base",
   "language": "python",
   "name": "python3"
  },
  "language_info": {
   "codemirror_mode": {
    "name": "ipython",
    "version": 3
   },
   "file_extension": ".py",
   "mimetype": "text/x-python",
   "name": "python",
   "nbconvert_exporter": "python",
   "pygments_lexer": "ipython3",
   "version": "3.9.13"
  },
  "toc-autonumbering": true,
  "vscode": {
   "interpreter": {
    "hash": "17ab86a1e6887f065e11e16a99f298fe3fef8522d68365a56b00dcdf870bcb66"
   }
  }
 },
 "nbformat": 4,
 "nbformat_minor": 4
}

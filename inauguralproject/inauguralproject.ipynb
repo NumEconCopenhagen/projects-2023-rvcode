{
 "cells": [
  {
   "cell_type": "markdown",
   "metadata": {},
   "source": [
    "# Inaugural Project"
   ]
  },
  {
   "attachments": {},
   "cell_type": "markdown",
   "metadata": {},
   "source": [
    "> **Note the following:** \n",
    "> 1. This is an example of how to structure your **inaugural project**.\n",
    "> 1. Remember the general advice on structuring and commenting your code\n",
    "> 1. The `inauguralproject.py` file includes a function which can be used multiple times in this notebook."
   ]
  },
  {
   "cell_type": "markdown",
   "metadata": {},
   "source": [
    "Imports and set magics:"
   ]
  },
  {
   "cell_type": "code",
   "execution_count": 41,
   "metadata": {},
   "outputs": [
    {
     "name": "stdout",
     "output_type": "stream",
     "text": [
      "The autoreload extension is already loaded. To reload it, use:\n",
      "  %reload_ext autoreload\n"
     ]
    }
   ],
   "source": [
    "import numpy as np\n",
    "import pandas as pd\n",
    "import matplotlib.pyplot as plt\n",
    "\n",
    "# autoreload modules when code is run. Otherwise, python will not see recent changes. \n",
    "%load_ext autoreload\n",
    "%autoreload 2\n",
    "\n",
    "# Import the model\n",
    "import inauguralproject as model\n",
    "hsm = model.HouseholdSpecializationModelClass()"
   ]
  },
  {
   "cell_type": "markdown",
   "metadata": {},
   "source": [
    "# Question 1"
   ]
  },
  {
   "cell_type": "markdown",
   "metadata": {},
   "source": [
    "**Explain how you solve the model**"
   ]
  },
  {
   "cell_type": "code",
   "execution_count": 9,
   "metadata": {},
   "outputs": [
    {
     "name": "stderr",
     "output_type": "stream",
     "text": [
      "/Users/victoremillundgaard/Documents/Introduction to programming/projects-2023-rvcode/inauguralproject/inauguralproject.py:65: RuntimeWarning: invalid value encountered in reciprocal\n",
      "  utility = np.fmax(Q,1e-8)**(1-par.rho)/(1-par.rho)\n"
     ]
    },
    {
     "name": "stdout",
     "output_type": "stream",
     "text": [
      "LM = 4.500, LF = 4.500, HM = 4.500, HF <= 4.500 for alpha and sigma: (0.5, 1.0)\n"
     ]
    }
   ],
   "source": [
    "# code for solving the model (remember documentation and comments)\n",
    "\n",
    "dsol = hsm.solve_discrete()\n",
    "\n",
    "print(f'LM = {dsol.LM:.3f}, LF = {dsol.LF:.3f}, HM = {dsol.HM:.3f}, HF <= {dsol.HF:.3f} for alpha and sigma: {hsm.par.alpha, hsm.par.sigma}') "
   ]
  },
  {
   "attachments": {},
   "cell_type": "markdown",
   "metadata": {},
   "source": [
    "We start our project by adjusting the code. First the parameter H is defined correctly in the py file. Thereafter we continue by defining the descrete function of the hours working in the market and at home. "
   ]
  },
  {
   "cell_type": "markdown",
   "metadata": {},
   "source": [
    "Create lists of $\\alpha$ and $\\sigma$ values and "
   ]
  },
  {
   "cell_type": "code",
   "execution_count": 12,
   "metadata": {},
   "outputs": [
    {
     "name": "stderr",
     "output_type": "stream",
     "text": [
      "/Users/victoremillundgaard/Documents/Introduction to programming/projects-2023-rvcode/inauguralproject/inauguralproject.py:61: RuntimeWarning: divide by zero encountered in reciprocal\n",
      "  H = ((1-par.alpha)*HM**((par.sigma-1)/par.sigma)+par.alpha*HF**((par.sigma-1)/par.sigma))**((par.sigma-1)/par.sigma)\n",
      "/Users/victoremillundgaard/Documents/Introduction to programming/projects-2023-rvcode/inauguralproject/inauguralproject.py:61: RuntimeWarning: invalid value encountered in reciprocal\n",
      "  H = ((1-par.alpha)*HM**((par.sigma-1)/par.sigma)+par.alpha*HF**((par.sigma-1)/par.sigma))**((par.sigma-1)/par.sigma)\n",
      "/Users/victoremillundgaard/Documents/Introduction to programming/projects-2023-rvcode/inauguralproject/inauguralproject.py:65: RuntimeWarning: invalid value encountered in reciprocal\n",
      "  utility = np.fmax(Q,1e-8)**(1-par.rho)/(1-par.rho)\n",
      "/Users/victoremillundgaard/Documents/Introduction to programming/projects-2023-rvcode/inauguralproject/inauguralproject.py:65: RuntimeWarning: invalid value encountered in reciprocal\n",
      "  utility = np.fmax(Q,1e-8)**(1-par.rho)/(1-par.rho)\n",
      "/Users/victoremillundgaard/Documents/Introduction to programming/projects-2023-rvcode/inauguralproject/inauguralproject.py:65: RuntimeWarning: invalid value encountered in reciprocal\n",
      "  utility = np.fmax(Q,1e-8)**(1-par.rho)/(1-par.rho)\n",
      "/Users/victoremillundgaard/Documents/Introduction to programming/projects-2023-rvcode/inauguralproject/inauguralproject.py:61: RuntimeWarning: divide by zero encountered in reciprocal\n",
      "  H = ((1-par.alpha)*HM**((par.sigma-1)/par.sigma)+par.alpha*HF**((par.sigma-1)/par.sigma))**((par.sigma-1)/par.sigma)\n",
      "/Users/victoremillundgaard/Documents/Introduction to programming/projects-2023-rvcode/inauguralproject/inauguralproject.py:61: RuntimeWarning: invalid value encountered in reciprocal\n",
      "  H = ((1-par.alpha)*HM**((par.sigma-1)/par.sigma)+par.alpha*HF**((par.sigma-1)/par.sigma))**((par.sigma-1)/par.sigma)\n",
      "/Users/victoremillundgaard/Documents/Introduction to programming/projects-2023-rvcode/inauguralproject/inauguralproject.py:65: RuntimeWarning: invalid value encountered in reciprocal\n",
      "  utility = np.fmax(Q,1e-8)**(1-par.rho)/(1-par.rho)\n",
      "/Users/victoremillundgaard/Documents/Introduction to programming/projects-2023-rvcode/inauguralproject/inauguralproject.py:65: RuntimeWarning: invalid value encountered in reciprocal\n",
      "  utility = np.fmax(Q,1e-8)**(1-par.rho)/(1-par.rho)\n",
      "/Users/victoremillundgaard/Documents/Introduction to programming/projects-2023-rvcode/inauguralproject/inauguralproject.py:65: RuntimeWarning: invalid value encountered in reciprocal\n",
      "  utility = np.fmax(Q,1e-8)**(1-par.rho)/(1-par.rho)\n",
      "/Users/victoremillundgaard/Documents/Introduction to programming/projects-2023-rvcode/inauguralproject/inauguralproject.py:61: RuntimeWarning: divide by zero encountered in reciprocal\n",
      "  H = ((1-par.alpha)*HM**((par.sigma-1)/par.sigma)+par.alpha*HF**((par.sigma-1)/par.sigma))**((par.sigma-1)/par.sigma)\n",
      "/Users/victoremillundgaard/Documents/Introduction to programming/projects-2023-rvcode/inauguralproject/inauguralproject.py:61: RuntimeWarning: invalid value encountered in reciprocal\n",
      "  H = ((1-par.alpha)*HM**((par.sigma-1)/par.sigma)+par.alpha*HF**((par.sigma-1)/par.sigma))**((par.sigma-1)/par.sigma)\n",
      "/Users/victoremillundgaard/Documents/Introduction to programming/projects-2023-rvcode/inauguralproject/inauguralproject.py:65: RuntimeWarning: invalid value encountered in reciprocal\n",
      "  utility = np.fmax(Q,1e-8)**(1-par.rho)/(1-par.rho)\n",
      "/Users/victoremillundgaard/Documents/Introduction to programming/projects-2023-rvcode/inauguralproject/inauguralproject.py:65: RuntimeWarning: invalid value encountered in reciprocal\n",
      "  utility = np.fmax(Q,1e-8)**(1-par.rho)/(1-par.rho)\n"
     ]
    },
    {
     "name": "stdout",
     "output_type": "stream",
     "text": [
      "   alpha  sigma     HF/HM\n",
      "0   0.25    0.5  0.545455\n",
      "1   0.25    1.0  0.307692\n",
      "2   0.25    1.5  0.333333\n",
      "3   0.50    0.5  1.000000\n",
      "4   0.50    1.0  1.000000\n",
      "5   0.50    1.5  1.000000\n",
      "6   0.75    0.5  1.833333\n",
      "7   0.75    1.0  3.250000\n",
      "8   0.75    1.5  3.000000\n"
     ]
    },
    {
     "name": "stderr",
     "output_type": "stream",
     "text": [
      "/Users/victoremillundgaard/Documents/Introduction to programming/projects-2023-rvcode/inauguralproject/inauguralproject.py:65: RuntimeWarning: invalid value encountered in reciprocal\n",
      "  utility = np.fmax(Q,1e-8)**(1-par.rho)/(1-par.rho)\n"
     ]
    }
   ],
   "source": [
    "alpha_list = [0.25, 0.50, 0.75]\n",
    "sigma_list = [0.5, 1.0, 1.5]\n",
    "\n",
    "# Create an empty data frame\n",
    "hprel = pd.DataFrame(columns=['alpha', 'sigma', 'HF/HM'])\n",
    "\n",
    "# Now we iterate over different values of alpha and sigma\n",
    "for alpha in alpha_list:\n",
    "    for sigma in sigma_list:\n",
    "        hsm.par.alpha = alpha\n",
    "        hsm.par.sigma = sigma\n",
    "        dsol = hsm.solve_discrete()\n",
    "        HF_HM=dsol.HF/dsol.HM\n",
    "        row = {\"alpha\": alpha, \"sigma\": sigma, \"HF/HM\": HF_HM}\n",
    "        hprel = pd.concat([hprel, pd.DataFrame([row])], ignore_index=True)\n",
    "    \n",
    "\n",
    "# print the results \n",
    "print(hprel)"
   ]
  },
  {
   "cell_type": "markdown",
   "metadata": {},
   "source": [
    "# Question 2"
   ]
  },
  {
   "cell_type": "markdown",
   "metadata": {},
   "source": [
    "Explain your code and procedure"
   ]
  },
  {
   "cell_type": "code",
   "execution_count": 30,
   "metadata": {},
   "outputs": [
    {
     "name": "stderr",
     "output_type": "stream",
     "text": [
      "/Users/victoremillundgaard/Documents/Introduction to programming/projects-2023-rvcode/inauguralproject/inauguralproject.py:65: RuntimeWarning: invalid value encountered in reciprocal\n",
      "  utility = np.fmax(Q,1e-8)**(1-par.rho)/(1-par.rho)\n",
      "/Users/victoremillundgaard/Documents/Introduction to programming/projects-2023-rvcode/inauguralproject/inauguralproject.py:65: RuntimeWarning: invalid value encountered in reciprocal\n",
      "  utility = np.fmax(Q,1e-8)**(1-par.rho)/(1-par.rho)\n",
      "/Users/victoremillundgaard/Documents/Introduction to programming/projects-2023-rvcode/inauguralproject/inauguralproject.py:65: RuntimeWarning: invalid value encountered in reciprocal\n",
      "  utility = np.fmax(Q,1e-8)**(1-par.rho)/(1-par.rho)\n",
      "/Users/victoremillundgaard/Documents/Introduction to programming/projects-2023-rvcode/inauguralproject/inauguralproject.py:65: RuntimeWarning: invalid value encountered in reciprocal\n",
      "  utility = np.fmax(Q,1e-8)**(1-par.rho)/(1-par.rho)\n",
      "/Users/victoremillundgaard/Documents/Introduction to programming/projects-2023-rvcode/inauguralproject/inauguralproject.py:65: RuntimeWarning: invalid value encountered in reciprocal\n",
      "  utility = np.fmax(Q,1e-8)**(1-par.rho)/(1-par.rho)\n"
     ]
    },
    {
     "data": {
      "image/png": "[encoded data removed]",
      "text/plain": [
       "<Figure size 640x480 with 1 Axes>"
      ]
     },
     "metadata": {},
     "output_type": "display_data"
    }
   ],
   "source": [
    "# Create a list of wF\n",
    "wF_list = [0.8, 0.9, 1.0, 1.1, 1.2]\n",
    "# Create an empty data frame\n",
    "hfhm = pd.DataFrame(columns=['wF', 'HF/HM'])\n",
    "\n",
    "# Create a loop similar to question 1 but only for one value\n",
    "for wF in wF_list:\n",
    "    hsm.par.wF = wF\n",
    "    dsol = hsm.solve_discrete()\n",
    "    HF_HM = dsol.HF/dsol.HM\n",
    "    row = {\"wF\": wF, \"HF/HM\": HF_HM}\n",
    "    hfhm = pd.concat([hfhm, pd.DataFrame([row])], ignore_index=True)\n",
    "\n",
    "# Plot the resulst\n",
    "plt.plot(np.log(hfhm['wF']/hsm.par.wM), np.log(hfhm['HF/HM']),'o')\n",
    "plt.xlabel('log(wF/wM)')\n",
    "plt.ylabel('log(HF/HM)')\n",
    "plt.show()"
   ]
  },
  {
   "cell_type": "markdown",
   "metadata": {},
   "source": [
    "# Question 3"
   ]
  },
  {
   "cell_type": "markdown",
   "metadata": {},
   "source": [
    "Explain your code and procedure"
   ]
  },
  {
   "cell_type": "code",
   "execution_count": 59,
   "metadata": {},
   "outputs": [
    {
     "name": "stdout",
     "output_type": "stream",
     "text": [
      "[-0.22314355 -0.10536052  0.          0.09531018  0.18232156]\n",
      "[1.24998234 1.11109225 1.         0.9097014  0.83353877]\n"
     ]
    },
    {
     "data": {
      "image/png": "[encoded data removed]",
      "text/plain": [
       "<Figure size 640x480 with 1 Axes>"
      ]
     },
     "metadata": {},
     "output_type": "display_data"
    }
   ],
   "source": [
    "Home_ratio = hsm.solve_wF_vec(discrete = False)\n",
    "\n",
    "log_w_rat = np.log(hsm.par.wF_vec / hsm.par.wM)\n",
    "\n",
    "print(log_w_rat)\n",
    "print(Home_ratio)\n",
    "\n",
    "\n",
    "# Plot the resulst\n",
    "plt.plot(log_w_rat, np.log(Home_ratio))\n",
    "plt.xlabel('log(wF/wM)')\n",
    "plt.ylabel('log(HF/HM)')\n",
    "plt.grid(True)\n",
    "plt.show()\n"
   ]
  },
  {
   "cell_type": "code",
   "execution_count": null,
   "metadata": {},
   "outputs": [],
   "source": []
  },
  {
   "cell_type": "code",
   "execution_count": null,
   "metadata": {},
   "outputs": [],
   "source": []
  },
  {
   "cell_type": "code",
   "execution_count": 49,
   "metadata": {},
   "outputs": [
    {
     "name": "stdout",
     "output_type": "stream",
     "text": [
      "None\n"
     ]
    }
   ],
   "source": [
    "print(dsol)"
   ]
  },
  {
   "cell_type": "markdown",
   "metadata": {},
   "source": [
    "ADD CONCISE CONLUSION."
   ]
  }
 ],
 "metadata": {
  "kernelspec": {
   "display_name": "Python 3",
   "language": "python",
   "name": "python3"
  },
  "language_info": {
   "codemirror_mode": {
    "name": "ipython",
    "version": 3
   },
   "file_extension": ".py",
   "mimetype": "text/x-python",
   "name": "python",
   "nbconvert_exporter": "python",
   "pygments_lexer": "ipython3",
   "version": "3.9.13"
  },
  "toc-autonumbering": true,
  "vscode": {
   "interpreter": {
    "hash": "40d3a090f54c6569ab1632332b64b2c03c39dcf918b08424e98f38b5ae0af88f"
   }
  }
 },
 "nbformat": 4,
 "nbformat_minor": 4
}

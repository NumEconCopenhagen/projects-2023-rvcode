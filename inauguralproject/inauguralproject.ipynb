{
 "cells": [
  {
   "attachments": {},
   "cell_type": "markdown",
   "metadata": {},
   "source": [
    "# Inaugural Project"
   ]
  },
  {
   "attachments": {},
   "cell_type": "markdown",
   "metadata": {},
   "source": [
    "> **Note the following:** \n",
    "> 1. This is an example of how to structure your **inaugural project**.\n",
    "> 1. Remember the general advice on structuring and commenting your code\n",
    "> 1. The `inauguralproject.py` file includes a function which can be used multiple times in this notebook."
   ]
  },
  {
   "attachments": {},
   "cell_type": "markdown",
   "metadata": {},
   "source": [
    "Imports and set magics:"
   ]
  },
  {
   "cell_type": "code",
   "execution_count": 1,
   "metadata": {},
   "outputs": [],
   "source": [
    "import numpy as np\n",
    "import pandas as pd\n",
    "import matplotlib.pyplot as plt\n",
    "\n",
    "# autoreload modules when code is run. Otherwise, python will not see recent changes. \n",
    "%load_ext autoreload\n",
    "%autoreload 2\n",
    "\n",
    "# Import the model\n",
    "import inauguralproject as model\n",
    "hsm = model.HouseholdSpecializationModelClass()"
   ]
  },
  {
   "attachments": {},
   "cell_type": "markdown",
   "metadata": {},
   "source": [
    "# Question 1"
   ]
  },
  {
   "attachments": {},
   "cell_type": "markdown",
   "metadata": {},
   "source": [
    "**Explain how you solve the model**"
   ]
  },
  {
   "cell_type": "code",
   "execution_count": 2,
   "metadata": {},
   "outputs": [
    {
     "name": "stderr",
     "output_type": "stream",
     "text": [
      "/Users/victoremillundgaard/Documents/Introduction to programming/projects-2023-rvcode-2/inauguralproject/inauguralproject.py:65: RuntimeWarning: invalid value encountered in reciprocal\n",
      "  utility = np.fmax(Q,1e-8)**(1-par.rho)/(1-par.rho)\n"
     ]
    },
    {
     "name": "stdout",
     "output_type": "stream",
     "text": [
      "LM = 4.500, LF = 4.500, HM = 4.500, HF <= 4.500 for alpha and sigma: (0.5, 1.0)\n"
     ]
    }
   ],
   "source": [
    "# code for solving the model (remember documentation and comments)\n",
    "\n",
    "dsol = hsm.solve_discrete()\n",
    "\n",
    "print(f'LM = {dsol.LM:.3f}, LF = {dsol.LF:.3f}, HM = {dsol.HM:.3f}, HF <= {dsol.HF:.3f} for alpha and sigma: {hsm.par.alpha, hsm.par.sigma}') "
   ]
  },
  {
   "attachments": {},
   "cell_type": "markdown",
   "metadata": {},
   "source": [
    "We start our project by adjusting the code. First the parameter H is defined correctly in the py file. Thereafter we continue by defining the descrete function of the hours working in the market and at home. "
   ]
  },
  {
   "attachments": {},
   "cell_type": "markdown",
   "metadata": {},
   "source": [
    "Create lists of $\\alpha$ and $\\sigma$ values and "
   ]
  },
  {
   "cell_type": "code",
   "execution_count": 3,
   "metadata": {},
   "outputs": [
    {
     "name": "stderr",
     "output_type": "stream",
     "text": [
      "/Users/victoremillundgaard/Documents/Introduction to programming/projects-2023-rvcode-2/inauguralproject/inauguralproject.py:61: RuntimeWarning: divide by zero encountered in reciprocal\n",
      "  H = ((1-par.alpha)*HM**((par.sigma-1)/par.sigma)+par.alpha*HF**((par.sigma-1)/par.sigma))**((par.sigma)/(par.sigma-1))\n",
      "/Users/victoremillundgaard/Documents/Introduction to programming/projects-2023-rvcode-2/inauguralproject/inauguralproject.py:61: RuntimeWarning: invalid value encountered in reciprocal\n",
      "  H = ((1-par.alpha)*HM**((par.sigma-1)/par.sigma)+par.alpha*HF**((par.sigma-1)/par.sigma))**((par.sigma)/(par.sigma-1))\n"
     ]
    },
    {
     "name": "stdout",
     "output_type": "stream",
     "text": [
      "sigma/alpha  0.25  0.50  0.75\n",
      "                             \n",
      "0.5          0.55  1.00  1.83\n",
      "1.0          0.31  1.00  3.25\n",
      "1.5          0.21  1.00  4.67\n"
     ]
    }
   ],
   "source": [
    "#a. Create list with values of alpha and sigma\n",
    "alpha_list = [0.25, 0.5, 0.75]\n",
    "sigma_list = [0.5,1.0,1.5]\n",
    "\n",
    "hprel = pd.DataFrame(columns = pd.Index(alpha_list, name=\"sigma/alpha\"), index = pd.Index(sigma_list, name=\"\"))\n",
    "\n",
    "\n",
    "for alpha in alpha_list:\n",
    "    for sigma in sigma_list:\n",
    "        hsm.par.alpha = alpha\n",
    "        hsm.par.sigma = sigma\n",
    "        dsol = hsm.solve_discrete()\n",
    "        HF_HM = dsol.HF / dsol.HM\n",
    "        hprel.loc[sigma,alpha] = f\"{HF_HM:.2f}\"\n",
    "\n",
    "print(hprel)"
   ]
  },
  {
   "attachments": {},
   "cell_type": "markdown",
   "metadata": {},
   "source": [
    "# Question 2"
   ]
  },
  {
   "attachments": {},
   "cell_type": "markdown",
   "metadata": {},
   "source": [
    "We start by generating a list of of values for wF and setting $\\alpha$ and $\\sigma$ to their baseline values. wM is set to 1. We then create and empty dataframe, hfhm, to store the new results in. \n",
    "\n",
    "We then create a loop based on values in wF_list and the baseline values for $\\alpha$ and $\\sigma$. By creating a loop the code is on all values given i wf_list. The code generates the ratio between HM and HM which is given by the variable HF_HM that is stored in the dataframe hfhm. Thereafter, the code's two rows in the dataframe given by the values of wF and HF_HM are concatenated into one row by through a conversion to pandas dataframe with HF/HM that gives the ratio between the two. Again this process is repeated for all values in wF_list. \n",
    "\n",
    "Thus, at the end our dataframe contains the ratio between HM and HF given by the variable HF/HM and the wF which actually is the ratio between wF and wM since wM = 1.\n",
    "\n",
    "At last, we take the natural logarithm to both wf and HF/HM and plot them against each other. The plot shows that when the females have lower wages than male, females spend more hours working at home. When the eages are equal or the females only earns a bit less the hours working at home are spend equally and when the females earn more than the males the males tend på work a bit more than the females at home. Thus, the plot shows the general idea, that wage inequality also affect the roles at home."
   ]
  },
  {
   "cell_type": "code",
   "execution_count": 4,
   "metadata": {},
   "outputs": [
    {
     "name": "stderr",
     "output_type": "stream",
     "text": [
      "/Users/victoremillundgaard/Documents/Introduction to programming/projects-2023-rvcode-2/inauguralproject/inauguralproject.py:65: RuntimeWarning: invalid value encountered in reciprocal\n",
      "  utility = np.fmax(Q,1e-8)**(1-par.rho)/(1-par.rho)\n",
      "/Users/victoremillundgaard/Documents/Introduction to programming/projects-2023-rvcode-2/inauguralproject/inauguralproject.py:65: RuntimeWarning: invalid value encountered in reciprocal\n",
      "  utility = np.fmax(Q,1e-8)**(1-par.rho)/(1-par.rho)\n",
      "/Users/victoremillundgaard/Documents/Introduction to programming/projects-2023-rvcode-2/inauguralproject/inauguralproject.py:65: RuntimeWarning: invalid value encountered in reciprocal\n",
      "  utility = np.fmax(Q,1e-8)**(1-par.rho)/(1-par.rho)\n",
      "/Users/victoremillundgaard/Documents/Introduction to programming/projects-2023-rvcode-2/inauguralproject/inauguralproject.py:65: RuntimeWarning: invalid value encountered in reciprocal\n",
      "  utility = np.fmax(Q,1e-8)**(1-par.rho)/(1-par.rho)\n",
      "/Users/victoremillundgaard/Documents/Introduction to programming/projects-2023-rvcode-2/inauguralproject/inauguralproject.py:65: RuntimeWarning: invalid value encountered in reciprocal\n",
      "  utility = np.fmax(Q,1e-8)**(1-par.rho)/(1-par.rho)\n"
     ]
    },
    {
     "data": {
      "image/png": "[encoded data removed]",
      "text/plain": [
       "<Figure size 640x480 with 1 Axes>"
      ]
     },
     "metadata": {},
     "output_type": "display_data"
    }
   ],
   "source": [
    "# Create a list of wF and redefine alpha and sigma\n",
    "wF_list = [0.8, 0.9, 1.0, 1.1, 1.2]\n",
    "hsm.par.alpha = 0.5\n",
    "hsm.par.sigma = 1.0\n",
    "\n",
    "# Create an empty data frame\n",
    "hfhm = pd.DataFrame(columns=['wF', 'HF/HM'])\n",
    "\n",
    "# Create a loop similar to question 1 but only for one value\n",
    "for wF in wF_list:\n",
    "    hsm.par.wF = wF\n",
    "    dsol = hsm.solve_discrete()\n",
    "    HF_HM = dsol.HF/dsol.HM\n",
    "    row = {\"wF\": wF, \"HF/HM\": HF_HM}\n",
    "    hfhm = pd.concat([hfhm, pd.DataFrame([row])], ignore_index=True)\n",
    "\n",
    "# Plot the resulst\n",
    "plt.plot(np.log(hfhm['wF']/hsm.par.wM), np.log(hfhm['HF/HM']),'o')\n",
    "plt.xlabel('log(wF/wM)')\n",
    "plt.ylabel('log(HF/HM)')\n",
    "plt.grid(True)\n",
    "plt.show()"
   ]
  },
  {
   "attachments": {},
   "cell_type": "markdown",
   "metadata": {},
   "source": [
    "# Question 3"
   ]
  },
  {
   "attachments": {},
   "cell_type": "markdown",
   "metadata": {},
   "source": [
    "We do the same as above in Question 2, however the choice set is continuous. \n",
    "\n",
    "We change the choice set to continuous by setting discrete=false when we define home_ratio below. \n",
    "\n",
    "The overall development is the same with the same start and end point. However, from wF= 0.9 to wF= 1.1 the data point follows the general development and does not diverge from the negative linear correlation between wF/wM and HF/HM."
   ]
  },
  {
   "cell_type": "code",
   "execution_count": 5,
   "metadata": {},
   "outputs": [
    {
     "name": "stdout",
     "output_type": "stream",
     "text": [
      "[-0.22314355 -0.10536052  0.          0.09531018  0.18232156]\n",
      "[1.25257396 1.00009755 1.         0.9999132  0.82975331]\n"
     ]
    },
    {
     "data": {
      "image/png": "[encoded data removed]",
      "text/plain": [
       "<Figure size 640x480 with 1 Axes>"
      ]
     },
     "metadata": {},
     "output_type": "display_data"
    }
   ],
   "source": [
    "Home_ratio = hsm.solve_wF_vec(discrete = False)\n",
    "\n",
    "log_w_rat = np.log(hsm.par.wF_vec / hsm.par.wM)\n",
    "\n",
    "print(log_w_rat)\n",
    "print(Home_ratio)\n",
    "\n",
    "\n",
    "# Plot the resulst\n",
    "plt.plot(log_w_rat, np.log(Home_ratio))\n",
    "plt.xlabel('log(wF/wM)')\n",
    "plt.ylabel('log(HF/HM)')\n",
    "plt.grid(True)\n",
    "plt.show()\n"
   ]
  },
  {
   "attachments": {},
   "cell_type": "markdown",
   "metadata": {},
   "source": [
    "ADD CONCISE CONLUSION."
   ]
  },
  {
   "attachments": {},
   "cell_type": "markdown",
   "metadata": {},
   "source": [
    "# Question 4"
   ]
  },
  {
   "attachments": {},
   "cell_type": "markdown",
   "metadata": {},
   "source": [
    "Below our solution to question 4. It is not correct but we are having trouble getting results that seems realistic to what the piper finds."
   ]
  },
  {
   "cell_type": "code",
   "execution_count": 6,
   "metadata": {},
   "outputs": [
    {
     "name": "stdout",
     "output_type": "stream",
     "text": [
      "alpha: 0.8987511959326847\n",
      "sigma: 0.9876659554023767\n"
     ]
    }
   ],
   "source": [
    "from scipy.optimize import minimize\n",
    "import numpy as np\n",
    "\n",
    "# Create an instance of the model\n",
    "hsm = model.HouseholdSpecializationModelClass()\n",
    "\n",
    "# Get the data from the model\n",
    "hsm_data = hsm.par.wF_vec  # Modify this to access the appropriate data from the model\n",
    "\n",
    "def objective(x, *args):\n",
    "    hsm_data = args[0]\n",
    "    alpha, sigma = x\n",
    "    n = len(hsm_data)\n",
    "    y = np.empty(n)\n",
    "    y[0] = hsm_data[0]\n",
    "    for i in range(1, n):\n",
    "        y[i] = alpha * hsm_data[i-1] + (1 - alpha) * (y[i-1] + sigma)\n",
    "    return np.sum((hsm_data - y) ** 2)\n",
    "\n",
    "# Define the bounds for alpha and sigma\n",
    "bounds = ((0.01, 0.99), (0.01, 0.99))\n",
    "\n",
    "# Find the values of alpha and sigma that minimize the objective function\n",
    "result = minimize(objective, (1, 1), args=(hsm_data,), bounds=bounds)\n",
    "\n",
    "# Extract the values of alpha and sigma from the result\n",
    "alpha, sigma = result.x\n",
    "\n",
    "# Print the values of alpha and sigma\n",
    "print(\"alpha:\", alpha)\n",
    "print(\"sigma:\", sigma)"
   ]
  },
  {
   "cell_type": "code",
   "execution_count": 7,
   "metadata": {},
   "outputs": [
    {
     "name": "stdout",
     "output_type": "stream",
     "text": [
      "alpha: 0.9899999999999998\n",
      "sigma: 0.08788807415264957\n"
     ]
    }
   ],
   "source": [
    "hsm = model.HouseholdSpecializationModelClass()\n",
    "\n",
    "par = hsm.par\n",
    "sol = hsm.sol\n",
    "\n",
    "def objective (x,*args):\n",
    "    hsm = args[0]\n",
    "\n",
    "    alpha, sigma = x\n",
    "    #print(x)\n",
    "    #set par\n",
    "    hsm.par.alpha = alpha\n",
    "    hsm.par.sigma = sigma\n",
    "\n",
    "    hsm.solve_wF_vec()\n",
    "    hsm.run_regression()\n",
    "\n",
    "    return (par.beta0_target - sol.beta0)**2 + (par.beta1_target - sol.beta1)**2\n",
    "\n",
    "# Define the bounds for alpha and sigma\n",
    "bounds = ((0.01, 0.99), (0.01,0.99))\n",
    "\n",
    "result = minimize(objective, [0.5,0.5], args = (hsm,), bounds=bounds, method='nelder-mead')\n",
    "\n",
    "alpha, sigma = result.x\n",
    "print (\"alpha:\", alpha)\n",
    "print (\"sigma:\", sigma)"
   ]
  }
 ],
 "metadata": {
  "kernelspec": {
   "display_name": "Python 3",
   "language": "python",
   "name": "python3"
  },
  "language_info": {
   "codemirror_mode": {
    "name": "ipython",
    "version": 3
   },
   "file_extension": ".py",
   "mimetype": "text/x-python",
   "name": "python",
   "nbconvert_exporter": "python",
   "pygments_lexer": "ipython3",
   "version": "3.9.13"
  },
  "toc-autonumbering": true,
  "vscode": {
   "interpreter": {
    "hash": "40d3a090f54c6569ab1632332b64b2c03c39dcf918b08424e98f38b5ae0af88f"
   }
  }
 },
 "nbformat": 4,
 "nbformat_minor": 4
}
